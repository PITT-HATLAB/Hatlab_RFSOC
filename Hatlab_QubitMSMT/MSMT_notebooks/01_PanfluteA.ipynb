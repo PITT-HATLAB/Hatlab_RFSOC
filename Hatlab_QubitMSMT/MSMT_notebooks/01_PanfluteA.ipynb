{
 "cells": [
  {
   "cell_type": "code",
   "execution_count": 1,
   "metadata": {
    "ExecuteTime": {
     "end_time": "2021-09-30T07:30:23.590904Z",
     "start_time": "2021-09-30T07:30:20.325164Z"
    }
   },
   "outputs": [
    {
     "data": {
      "application/javascript": "\ntry {\nrequire(['notebook/js/codecell'], function(codecell) {\n  codecell.CodeCell.options_default.highlight_modes[\n      'magic_text/x-csrc'] = {'reg':[/^%%pybind11/]};\n  Jupyter.notebook.events.one('kernel_ready.Kernel', function(){\n      Jupyter.notebook.get_cells().map(function(cell){\n          if (cell.cell_type == 'code'){ cell.auto_highlight(); } }) ;\n  });\n});\n} catch (e) {};\n"
     },
     "metadata": {},
     "output_type": "display_data"
    }
   ],
   "source": [
    "%matplotlib ipympl\n",
    "from qick import QickSoc, AveragerProgram, RAveragerProgram, deg2reg\n",
    "from qick.helpers import gauss\n",
    "from tqdm import tqdm_notebook as tqdm\n",
    "from matplotlib import pyplot as plt\n",
    "import os\n",
    "import sys\n",
    "module_path = os.path.abspath(os.path.join('..'))\n",
    "if module_path not in sys.path:\n",
    "    sys.path.append(module_path)\n",
    "from helpers.dataTransfer import saveFullDataToRemote, saveDataToRemote\n",
    "from Hatlab_DataProcessing.analyzer import qubit_functions_rot as qfr\n"
   ]
  },
  {
   "cell_type": "markdown",
   "metadata": {},
   "source": [
    "# Data Saving Info"
   ]
  },
  {
   "cell_type": "code",
   "execution_count": 3,
   "metadata": {},
   "outputs": [],
   "source": [
    "remotePath = \"C:/Users/hatla/Data\"\n",
    "sampleName = \"PanfluteA\""
   ]
  },
  {
   "cell_type": "markdown",
   "metadata": {},
   "source": [
    "# Configuring the channels\n",
    "\n",
    "The data in this notebook was taken with a wiring diagram similar to the above. The QICK has eight RF DACs which can be configured in multiple ways. Using the QICK, two RF DACs are needed to control the qubit and its readout resonator, respectively. Also, the qubit control pulses (< 6 GHz) were directly synthesized without the use of an analog mixer. Note that the QICK RF board was not used for these measurements, only the ZCU111 evaluation board plus the analog components specified in the diagram."
   ]
  },
  {
   "cell_type": "code",
   "execution_count": 2,
   "metadata": {
    "ExecuteTime": {
     "end_time": "2021-09-30T07:30:27.452111Z",
     "start_time": "2021-09-30T07:30:24.088270Z"
    }
   },
   "outputs": [],
   "source": [
    "# Load bitstream with custom overlay\n",
    "soc = QickSoc()\n",
    "soc.set_nyquist(ch=7,nqz=1) #Readout_I\n",
    "soc.set_nyquist(ch=6,nqz=1) #Readout_Q\n",
    "soc.set_nyquist(ch=3,nqz=2) #Qubit\n",
    "hw_cfg={\"res_ch_I\":6,\n",
    "        \"res_ch_Q\":7,\n",
    "        \"qubit_ch\":3,\n",
    "       }"
   ]
  },
  {
   "cell_type": "markdown",
   "metadata": {},
   "source": [
    "# TOF Measurement\n",
    "\n",
    "Measures the \"time of flight\" of the measurement pulse. The time of flight is the time at which the measurement pulse appears in the ADC buffer. We only want to start capturing data from this point in time onwards. We store this time of flight in the parameter <code> readout_cfg[\"adc_trig_offset\"] </code>."
   ]
  },
  {
   "cell_type": "code",
   "execution_count": 3,
   "metadata": {
    "ExecuteTime": {
     "end_time": "2021-09-30T07:30:33.274722Z",
     "start_time": "2021-09-30T07:30:27.459934Z"
    }
   },
   "outputs": [
    {
     "data": {
      "application/vnd.jupyter.widget-view+json": {
       "model_id": "c2cdfbae17b247b8a1208263558fa99c",
       "version_major": 2,
       "version_minor": 0
      },
      "text/plain": [
       "HBox(children=(IntProgress(value=0, max=1000), HTML(value='')))"
      ]
     },
     "metadata": {},
     "output_type": "display_data"
    },
    {
     "name": "stdout",
     "output_type": "stream",
     "text": [
      "\n"
     ]
    },
    {
     "data": {
      "application/vnd.jupyter.widget-view+json": {
       "model_id": "9b54b2dfa12b42deaab3502d38c381a7",
       "version_major": 2,
       "version_minor": 0
      },
      "text/plain": [
       "Canvas(toolbar=Toolbar(toolitems=[('Home', 'Reset original view', 'home', 'home'), ('Back', 'Back to  previous…"
      ]
     },
     "metadata": {},
     "output_type": "display_data"
    },
    {
     "data": {
      "text/plain": [
       "<matplotlib.legend.Legend at 0x7f4f2890b8>"
      ]
     },
     "execution_count": 3,
     "metadata": {},
     "output_type": "execute_result"
    }
   ],
   "source": [
    "class LoopbackProgram(AveragerProgram):\n",
    "    def initialize(self):\n",
    "        cfg=self.cfg   \n",
    "        cfg[\"adc_lengths\"]=[cfg[\"readout_length\"]]*2          #add length of adc acquisition to config\n",
    "        cfg[\"adc_freqs\"]=[soc.adcfreq(cfg[\"res_freq\"])]*2   #add frequency of adc dds to config\n",
    "        \n",
    "        self.res_gain_I = int(cfg[\"res_gain\"])\n",
    "        self.res_gain_Q = int(cfg[\"res_gain\"] * cfg[\"IQScale\"])\n",
    "        self.res_phase_I = deg2reg(cfg[\"res_phase\"])\n",
    "        self.res_phase_Q = deg2reg(cfg[\"skewPhase\"]+cfg[\"res_phase\"])\n",
    "        self.res_length = cfg[\"res_length\"]\n",
    "        self.res_freq = soc.freq2reg(soc.adcfreq(cfg[\"res_freq\"]))  # convert frequency to dac frequency (ensuring it is an available adc frequency)\n",
    "\n",
    "        self.add_pulse(ch=cfg[\"res_ch_I\"], name=\"measure\", style=\"const\", length=self.res_length)  #add a constant pulse to the pulse library\n",
    "        self.add_pulse(ch=cfg[\"res_ch_Q\"], name=\"measure\", style=\"const\", length=self.res_length)  #add a constant pulse to the pulse library\n",
    "        \n",
    "        self.waiti(0, 200)  # give processor some time to configure pulses\n",
    "    \n",
    "    def body(self):\n",
    "        cfg=self.cfg   \n",
    "        self.trigger_adc(adc1=1, adc2=1, adc_trig_offset=cfg[\"adc_trig_offset\"], t=0)  # trigger the adc acquisition\n",
    "        self.pulse(ch=cfg[\"res_ch_I\"], name=\"measure\", freq=self.res_freq, phase=self.res_phase_I, gain=self.res_gain_I, length=self.res_length, t=0, play=True) \n",
    "        self.pulse(ch=cfg[\"res_ch_Q\"], name=\"measure\", freq=self.res_freq, phase=self.res_phase_Q, gain=self.res_gain_Q, length=self.res_length, t=0, play=True) \n",
    "\n",
    "        self.sync_all(soc.us2cycles(self.cfg[\"relax_delay\"]))  # sync all channels\n",
    "\n",
    "readout_cfg={\n",
    "    \"reps\":1, # --Fixed\n",
    "    \"adc_trig_offset\": 380, # [clock ticks]\n",
    "    \"readout_length\":800, # [clock ticks]\n",
    "    \n",
    "    \"res_freq\": 90, # [MHz]\n",
    "    \"res_gain\": 15000, # [DAC units]\n",
    "    \"res_length\": 500, # [clock ticks]\n",
    "    \"res_phase\" : 0, # [deg]\n",
    "    \"skewPhase\":83, # [Degrees]\n",
    "    \"IQScale\":1.03,\n",
    "    \n",
    "    \"soft_avgs\": 1000,\n",
    "    \"relax_delay\": 10 # [us]\n",
    "}\n",
    "\n",
    "config={**hw_cfg, **readout_cfg}\n",
    "prog =LoopbackProgram(config)\n",
    "adc1, adc2 = prog.acquire_decimated(soc, load_pulses=True, progress=True, debug=False)\n",
    "\n",
    "# Plot results.\n",
    "ax1=plt.subplot(111, title=f\"Averages = {config['soft_avgs']}\", xlabel=\"Clock ticks\", ylabel=\"Transmission (adc levels)\")\n",
    "ax1.plot(adc1[0], label=\"I value; ADC 0\")\n",
    "ax1.plot(adc1[1], label=\"Q value; ADC 0\")\n",
    "ax1.legend()"
   ]
  },
  {
   "cell_type": "markdown",
   "metadata": {},
   "source": [
    "# IQ Histogram"
   ]
  },
  {
   "cell_type": "code",
   "execution_count": 17,
   "metadata": {},
   "outputs": [
    {
     "data": {
      "application/vnd.jupyter.widget-view+json": {
       "model_id": "88ee66bb058a49cfa939c46c196d7aba",
       "version_major": 2,
       "version_minor": 0
      },
      "text/plain": [
       "HBox(children=(IntProgress(value=0, max=20000), HTML(value='')))"
      ]
     },
     "metadata": {},
     "output_type": "display_data"
    },
    {
     "name": "stdout",
     "output_type": "stream",
     "text": [
      "\n"
     ]
    },
    {
     "data": {
      "application/vnd.jupyter.widget-view+json": {
       "model_id": "fea16ae4c64c4f0b924bba8d0d361f52",
       "version_major": 2,
       "version_minor": 0
      },
      "text/plain": [
       "Canvas(toolbar=Toolbar(toolitems=[('Home', 'Reset original view', 'home', 'home'), ('Back', 'Back to  previous…"
      ]
     },
     "metadata": {},
     "output_type": "display_data"
    }
   ],
   "source": [
    "readout_cfg={\n",
    "    \"reps\":20000, # \n",
    "    \"adc_trig_offset\": 380, # [clock ticks]\n",
    "    \"readout_length\":800, # [clock ticks]\n",
    "    \n",
    "    \"res_freq\": 90, # [MHz]\n",
    "    \"res_gain\": 15000, # [DAC units]\n",
    "    \"res_length\": 500, # [clock ticks]\n",
    "    \"res_phase\" : 0, # [deg]\n",
    "    \"skewPhase\":83, # [Degrees]\n",
    "    \"IQScale\":1.03,\n",
    "    \n",
    "    \"rounds\": 1,\n",
    "    \"relax_delay\": 20 #[us]\n",
    "}\n",
    "\n",
    "config={**hw_cfg, **readout_cfg}\n",
    "prog =LoopbackProgram(config)\n",
    "avgi, avgq = prog.acquire(soc, load_pulses=True,progress=True, debug=False)\n",
    "\n",
    "# Plot results.\n",
    "fig, ax = plt.subplots()\n",
    "hist=ax.hist2d(prog.di_buf[0],prog.dq_buf[0], bins=101, range=[[-400,400], [-400,400]])\n",
    "ax.set_aspect(1)\n",
    "fig.colorbar(hist[3])\n",
    "plt.show()\n",
    "\n",
    "# fig, ax = plt.subplots()\n",
    "# hist=ax.plot(prog.di_buf[0],prog.dq_buf[0], \".\")\n",
    "# ax.set_aspect(1)"
   ]
  },
  {
   "cell_type": "markdown",
   "metadata": {},
   "source": [
    "# Pulse Probe (qubit) spectroscopy\n",
    "\n",
    "Measures the qubit frequency f_ge. We store this parameter here: <code> qubit_cfg[\"f_ge\"] </code>.\n",
    "\n",
    "This program uses the RAveragerProgram class, which allows you to sweep a parameter directly on the processor rather than in a Python loop as in the above resonator spectroscopy example. Because the whole sweep is done on the processor there is less downtime (especially for fast experiments)."
   ]
  },
  {
   "cell_type": "code",
   "execution_count": 12,
   "metadata": {
    "ExecuteTime": {
     "end_time": "2021-09-30T07:30:53.847151Z",
     "start_time": "2021-09-30T07:30:53.706007Z"
    }
   },
   "outputs": [],
   "source": [
    "class PulseProbeSpectroscopyProgram(RAveragerProgram):\n",
    "    def initialize(self):\n",
    "        cfg=self.cfg\n",
    "        self.cfg[\"adc_lengths\"]=[self.cfg[\"readout_length\"]]*2   #copy over adc acquisition parameters\n",
    "        self.cfg[\"adc_freqs\"]=[soc.adcfreq(cfg[\"res_freq\"])]*2\n",
    "        \n",
    "        self.res_gain_I = int(cfg[\"res_gain\"])\n",
    "        self.res_gain_Q = int(cfg[\"res_gain\"] * cfg[\"IQScale\"])\n",
    "        self.res_phase_I = deg2reg(cfg[\"res_phase\"])\n",
    "        self.res_phase_Q = deg2reg(cfg[\"skewPhase\"]+cfg[\"res_phase\"])\n",
    "        self.res_length = cfg[\"res_length\"]\n",
    "        self.res_freq = soc.freq2reg(soc.adcfreq(cfg[\"res_freq\"]))  # convert frequency to dac frequency (ensuring it is an available adc frequency)\n",
    "\n",
    "        self.qubit_gain = int(cfg[\"qubit_gain\"])\n",
    "   \n",
    "        \n",
    "        self.q_rp=self.ch_page(self.cfg[\"qubit_ch\"])     # get register page for qubit_ch\n",
    "        self.r_freq=self.sreg(cfg[\"qubit_ch\"], \"freq\")   # get frequency register for qubit_ch    \n",
    "\n",
    "        \n",
    "        # add qubit and readout pulses to respective channels\n",
    "        self.add_pulse(ch=self.cfg[\"qubit_ch\"], name=\"qubit\",style=\"const\", length=self.cfg[\"probe_length\"])\n",
    "        self.add_pulse(ch=cfg[\"res_ch_I\"], name=\"measure\", style=\"const\", length=self.res_length)  #add a constant pulse to the pulse library\n",
    "        self.add_pulse(ch=cfg[\"res_ch_Q\"], name=\"measure\", style=\"const\", length=self.res_length)  #add a constant pulse to the pulse library\n",
    "\n",
    "        self.f_start = soc.freq2reg(cfg[\"start\"])  # get start/step frequencies\n",
    "        self.f_step = soc.freq2reg(cfg[\"step\"])\n",
    "        \n",
    "        # pre-initialize pulses\n",
    "        self.pulse(ch=cfg[\"qubit_ch\"], name=\"qubit\", phase=0, freq=self.f_start, gain=cfg[\"qubit_gain\"], play=False)\n",
    "        self.sync_all(soc.us2cycles(1))\n",
    "    \n",
    "    def body(self):\n",
    "        cfg=self.cfg\n",
    "        self.pulse(ch=self.cfg[\"qubit_ch\"], play=True)  #play probe pulse        \n",
    "        self.sync_all(soc.us2cycles(0.05)) # align channels and wait 50ns\n",
    "        self.trigger_adc(adc1=1, adc2=1, adc_trig_offset=cfg[\"adc_trig_offset\"])  # trigger the adc acquisition\n",
    "        self.pulse(ch=cfg[\"res_ch_I\"], name=\"measure\", freq=self.res_freq, phase=self.res_phase_I, gain=self.res_gain_I, play=True) \n",
    "        self.pulse(ch=cfg[\"res_ch_Q\"], name=\"measure\", freq=self.res_freq, phase=self.res_phase_Q, gain=self.res_gain_Q, play=True) \n",
    "        self.waiti(0, cfg[\"adc_trig_offset\"] + cfg[\"readout_length\"]) \n",
    "        self.sync_all(soc.us2cycles(self.cfg[\"relax_delay\"]))  # wait for qubit to relax\n",
    "    \n",
    "    def update(self):\n",
    "        self.mathi(self.q_rp, self.r_freq, self.r_freq, '+', self.f_step) # update frequency list index"
   ]
  },
  {
   "cell_type": "code",
   "execution_count": 16,
   "metadata": {
    "ExecuteTime": {
     "end_time": "2021-09-30T07:34:17.638682Z",
     "start_time": "2021-09-30T07:30:53.854751Z"
    },
    "scrolled": false
   },
   "outputs": [
    {
     "data": {
      "application/vnd.jupyter.widget-view+json": {
       "model_id": "ec6555eb64da4529b47c3555ae27c1c5",
       "version_major": 2,
       "version_minor": 0
      },
      "text/plain": [
       "HBox(children=(IntProgress(value=0, max=50000), HTML(value='')))"
      ]
     },
     "metadata": {},
     "output_type": "display_data"
    },
    {
     "name": "stdout",
     "output_type": "stream",
     "text": [
      "\n"
     ]
    },
    {
     "data": {
      "application/vnd.jupyter.widget-view+json": {
       "model_id": "32783e0b4d9345c19025c087b82c5073",
       "version_major": 2,
       "version_minor": 0
      },
      "text/plain": [
       "Canvas(toolbar=Toolbar(toolitems=[('Home', 'Reset original view', 'home', 'home'), ('Back', 'Back to  previous…"
      ]
     },
     "metadata": {},
     "output_type": "display_data"
    }
   ],
   "source": [
    "expt_cfg={\"start\":4860, # MHz\n",
    "          \"step\":0.5, \n",
    "          \"expts\":100, \n",
    "          \"reps\": 500,\n",
    "          \"rounds\":1,\n",
    "          \"probe_length\":soc.us2cycles(2), \n",
    "          \"qubit_gain\":5000,\n",
    "          \"relax_delay\": 200 #[us]\n",
    "         }\n",
    "\n",
    "config={**hw_cfg,**readout_cfg,**expt_cfg} #combine configs\n",
    "\n",
    "qspec=PulseProbeSpectroscopyProgram(cfg=config)\n",
    "expt_pts, avgi, avgq = qspec.acquire(soc, load_pulses=True,progress=True, debug=False)\n",
    "\n",
    "plt.figure()\n",
    "plt.subplot(111,title=\"Qubit Spectroscopy\", xlabel=\"Qubit Frequency (GHz)\", ylabel=\"Qubit I\")\n",
    "plt.plot(expt_pts, avgi[0][0],'o-')\n",
    "plt.plot(expt_pts, avgq[0][0],'o-')\n",
    "plt.show()\n"
   ]
  },
  {
   "cell_type": "markdown",
   "metadata": {},
   "source": [
    "# Amplitude Rabi\n",
    "\n",
    "Measures Rabi oscillations by sweeping over the amplitude of the qubit drive pulse, which is an $\\approx$ 100 ns ($\\sigma$ $\\approx$ 25 ns) long Gaussian pulse. We measure the $\\pi$ and $\\pi$/2 pulse amplitudes which are used in subsequent experiments to control the qubit. We store these parameters here: <code> qubit_cfg[\"pi_gain\"] </code> and <code> qubit_cfg[\"pi2_gain\"] </code>"
   ]
  },
  {
   "cell_type": "code",
   "execution_count": 18,
   "metadata": {
    "ExecuteTime": {
     "end_time": "2021-09-30T07:35:01.584025Z",
     "start_time": "2021-09-30T07:35:01.417884Z"
    }
   },
   "outputs": [],
   "source": [
    "class AmplitudeRabiProgram(RAveragerProgram):\n",
    "    def initialize(self):\n",
    "        cfg=self.cfg\n",
    "        self.cfg[\"adc_lengths\"]=[self.cfg[\"readout_length\"]]*2   #copy over adc acquisition parameters\n",
    "        self.cfg[\"adc_freqs\"]=[soc.adcfreq(cfg[\"res_freq\"])]*2\n",
    "        \n",
    "        \n",
    "        self.res_gain_I = int(cfg[\"res_gain\"])\n",
    "        self.res_gain_Q = int(cfg[\"res_gain\"] * cfg[\"IQScale\"])\n",
    "        self.res_phase_I = deg2reg(cfg[\"res_phase\"])\n",
    "        self.res_phase_Q = deg2reg(cfg[\"skewPhase\"]+cfg[\"res_phase\"])\n",
    "        self.res_length = cfg[\"res_length\"]\n",
    "        self.res_freq = soc.freq2reg(soc.adcfreq(cfg[\"res_freq\"]))  # convert frequency to dac frequency (ensuring it is an available adc frequency)\n",
    "        \n",
    "        self.qubit_freq=soc.freq2reg(cfg[\"qubit_freq\"])\n",
    "                \n",
    "        self.q_rp=self.ch_page(self.cfg[\"qubit_ch\"])     # get register page for qubit_ch\n",
    "        self.r_gain=self.sreg(cfg[\"qubit_ch\"], \"gain\")   # get gain register for qubit_ch    \n",
    "        \n",
    "        # add qubit and readout pulses to respective channels\n",
    "        self.add_pulse(ch=self.cfg[\"qubit_ch\"], name=\"qubit\", style=\"arb\", \n",
    "                       idata=gauss(mu=cfg[\"sigma\"]*16*4/2,si=cfg[\"sigma\"]*16,length=4*cfg[\"sigma\"]*16,maxv=2**15-1) )\n",
    "        \n",
    "        self.add_pulse(ch=cfg[\"res_ch_I\"], name=\"measure\", style=\"const\", length=self.res_length)  #add a constant pulse to the pulse library\n",
    "        self.add_pulse(ch=cfg[\"res_ch_Q\"], name=\"measure\", style=\"const\", length=self.res_length)  #add a constant pulse to the pulse library\n",
    "\n",
    "        \n",
    "        # pre-initialize pulses\n",
    "        self.pulse(ch=cfg[\"qubit_ch\"], name=\"qubit\", phase=0, freq=self.qubit_freq, gain=cfg[\"start\"], play=False)    \n",
    "        self.sync_all(soc.us2cycles(1))\n",
    "    \n",
    "    def body(self):   \n",
    "        cfg=self.cfg\n",
    "        self.pulse(ch=self.cfg[\"qubit_ch\"], play=True, phase=deg2reg(90))  #play gaussian pulse\n",
    "        self.sync_all(soc.us2cycles(0.05)) # align channels and wait 50ns\n",
    "        self.trigger_adc(adc1=1, adc2=1, adc_trig_offset=cfg[\"adc_trig_offset\"])  # trigger the adc acquisition\n",
    "        self.pulse(ch=cfg[\"res_ch_I\"], name=\"measure\", freq=self.res_freq, phase=self.res_phase_I, gain=self.res_gain_I, play=True) \n",
    "        self.pulse(ch=cfg[\"res_ch_Q\"], name=\"measure\", freq=self.res_freq, phase=self.res_phase_Q, gain=self.res_gain_Q, play=True) \n",
    "        self.waiti(0, cfg[\"adc_trig_offset\"] + cfg[\"readout_length\"]) \n",
    "        self.sync_all(soc.us2cycles(self.cfg[\"relax_delay\"]))  # wait for qubit to relax\n",
    "    \n",
    "    def update(self):\n",
    "        self.mathi(self.q_rp, self.r_gain, self.r_gain, '+', self.cfg[\"step\"]) # update gain of the Gaussian pi pulse"
   ]
  },
  {
   "cell_type": "code",
   "execution_count": 19,
   "metadata": {
    "ExecuteTime": {
     "end_time": "2021-09-30T07:36:04.648458Z",
     "start_time": "2021-09-30T07:35:01.590986Z"
    },
    "scrolled": false
   },
   "outputs": [
    {
     "data": {
      "application/vnd.jupyter.widget-view+json": {
       "model_id": "e2bfd9470f9c4279824292a46f10e25e",
       "version_major": 2,
       "version_minor": 0
      },
      "text/plain": [
       "HBox(children=(IntProgress(value=0, max=60000), HTML(value='')))"
      ]
     },
     "metadata": {},
     "output_type": "display_data"
    },
    {
     "name": "stdout",
     "output_type": "stream",
     "text": [
      "\n"
     ]
    },
    {
     "data": {
      "application/vnd.jupyter.widget-view+json": {
       "model_id": "5549f2b9daae4440af1db699a73f0130",
       "version_major": 2,
       "version_minor": 0
      },
      "text/plain": [
       "Canvas(toolbar=Toolbar(toolitems=[('Home', 'Reset original view', 'home', 'home'), ('Back', 'Back to  previous…"
      ]
     },
     "metadata": {},
     "output_type": "display_data"
    },
    {
     "data": {
      "text/plain": [
       "[<matplotlib.lines.Line2D at 0x7f66bd9208>]"
      ]
     },
     "execution_count": 19,
     "metadata": {},
     "output_type": "execute_result"
    }
   ],
   "source": [
    "qubit_cfg={\n",
    "    \"sigma\": soc.us2cycles(0.07),\n",
    "    \"qubit_freq\":4879\n",
    "}\n",
    "\n",
    "expt_cfg={\n",
    "    \"start\":-30000, \n",
    "    \"step\":200, \n",
    "    \"expts\":300, \n",
    "    \"reps\": 200,\n",
    "    \"relax_delay\":200\n",
    "       }\n",
    "\n",
    "config={**hw_cfg,**readout_cfg,**qubit_cfg,**expt_cfg} #combine configs\n",
    "\n",
    "rabi=AmplitudeRabiProgram(cfg=config)\n",
    "x_pts, avgi, avgq  = rabi.acquire(soc,load_pulses=True,progress=True, debug=False)\n",
    "\n",
    "plt.figure()\n",
    "plt.subplot(111, title= f\"Amplitude Rabi, $\\sigma={soc.cycles2us(config['sigma'])*1000}$ ns\", xlabel=\"Gain\", ylabel=\"Qubit Population\" )\n",
    "plt.plot(x_pts,avgi[0][0],'o-')\n",
    "plt.plot(x_pts,avgq[0][0],'o-')\n"
   ]
  },
  {
   "cell_type": "code",
   "execution_count": 20,
   "metadata": {},
   "outputs": [
    {
     "name": "stdout",
     "output_type": "stream",
     "text": [
      "Pi pulse amp:17118.22 DAC, Pi/2 pulse amp:8480.422 DAC\n"
     ]
    },
    {
     "data": {
      "application/vnd.jupyter.widget-view+json": {
       "model_id": "5a66ace8458341ae90d3d21ee8f298cc",
       "version_major": 2,
       "version_minor": 0
      },
      "text/plain": [
       "Canvas(toolbar=Toolbar(toolitems=[('Home', 'Reset original view', 'home', 'home'), ('Back', 'Back to  previous…"
      ]
     },
     "metadata": {},
     "output_type": "display_data"
    }
   ],
   "source": [
    "piPul = qfr.PiPulseTuneUp(x_pts, avgi[0][0]+1j*avgq[0][0])\n",
    "piResult = piPul.run()\n",
    "piResult.plot()\n",
    "\n",
    "# # ----- save data to pc -------- \n",
    "# data_temp = {\"x_data\":x_pts, \"i_data\": avgi[0][0], \"q_data\": avgq[0][0]}\n",
    "# saveDataToRemote(data_temp, sampleName+\"_pipulse\", remotePath)"
   ]
  },
  {
   "cell_type": "markdown",
   "metadata": {},
   "source": [
    "# T1 \n",
    "\n",
    "Measures the qubit T1 characteristic decay time by preparing the qubit in its excited state with a $\\pi$ pulse followed by a variable delay ($\\tau$) before measuring the qubit's state. This exponential decay curve can be fitted in post-processing to obtain the qubit T1 time."
   ]
  },
  {
   "cell_type": "code",
   "execution_count": 21,
   "metadata": {
    "ExecuteTime": {
     "end_time": "2021-09-30T07:36:04.818431Z",
     "start_time": "2021-09-30T07:36:04.656319Z"
    }
   },
   "outputs": [],
   "source": [
    "class T1Program(RAveragerProgram):\n",
    "    def __init__(self,cfg):\n",
    "        AveragerProgram.__init__(self,cfg)       \n",
    "        \n",
    "    def initialize(self):\n",
    "        cfg=self.cfg               \n",
    "        self.cfg[\"adc_lengths\"]=[self.cfg[\"readout_length\"]]*2   #copy over adc acquisition parameters\n",
    "        self.cfg[\"adc_freqs\"]=[soc.adcfreq(cfg[\"res_freq\"])]*2\n",
    "        \n",
    "        self.res_gain_I = int(cfg[\"res_gain\"])\n",
    "        self.res_gain_Q = int(cfg[\"res_gain\"] * cfg[\"IQScale\"])\n",
    "        self.res_phase_I = deg2reg(cfg[\"res_phase\"])\n",
    "        self.res_phase_Q = deg2reg(cfg[\"skewPhase\"]+cfg[\"res_phase\"])\n",
    "        self.res_length = cfg[\"res_length\"]\n",
    "        self.res_freq = soc.freq2reg(soc.adcfreq(cfg[\"res_freq\"]))  # convert frequency to dac frequency (ensuring it is an available adc frequency)\n",
    "        \n",
    "        self.qubit_freq=soc.freq2reg(cfg[\"qubit_freq\"])\n",
    "        \n",
    "                                \n",
    "        self.q_rp=self.ch_page(self.cfg[\"qubit_ch\"])     # get register page for qubit_ch\n",
    "        self.r_wait = 3\n",
    "        self.regwi(self.q_rp, self.r_wait, soc.us2cycles(cfg[\"start\"]))\n",
    "        \n",
    "        \n",
    "        # add qubit and readout pulses to respective channels\n",
    "        self.add_pulse(ch=self.cfg[\"qubit_ch\"], name=\"qubit\", style=\"arb\", \n",
    "                       idata=gauss(mu=cfg[\"sigma\"]*16*4/2,si=cfg[\"sigma\"]*16,length=4*cfg[\"sigma\"]*16,maxv=2**15-1) )\n",
    "        \n",
    "        self.add_pulse(ch=cfg[\"res_ch_I\"], name=\"measure\", style=\"const\", length=self.res_length)  #add a constant pulse to the pulse library\n",
    "        self.add_pulse(ch=cfg[\"res_ch_Q\"], name=\"measure\", style=\"const\", length=self.res_length)  #add a constant pulse to the pulse library\n",
    "\n",
    "               \n",
    "        # pre-initialize pulses\n",
    "        self.pulse(ch=cfg[\"qubit_ch\"], name=\"qubit\", phase=0, freq=self.qubit_freq, gain=cfg[\"pi_gain\"], play=False)\n",
    "    \n",
    "        self.sync_all(soc.us2cycles(1))\n",
    "    \n",
    "    def body(self):\n",
    "        cfg = self.cfg\n",
    "        self.pulse(ch=self.cfg[\"qubit_ch\"], play=True)  #play pi pulse\n",
    "        self.sync_all()\n",
    "        self.sync(self.q_rp,self.r_wait)\n",
    "        self.trigger_adc(adc1=1, adc2=1, adc_trig_offset=cfg[\"adc_trig_offset\"])  # trigger the adc acquisition\n",
    "        self.pulse(ch=cfg[\"res_ch_I\"], name=\"measure\", freq=self.res_freq, phase=self.res_phase_I, gain=self.res_gain_I, play=True) \n",
    "        self.pulse(ch=cfg[\"res_ch_Q\"], name=\"measure\", freq=self.res_freq, phase=self.res_phase_Q, gain=self.res_gain_Q, play=True) \n",
    "        self.waiti(0, cfg[\"adc_trig_offset\"] + cfg[\"readout_length\"]) \n",
    "        self.sync_all(soc.us2cycles(self.cfg[\"relax_delay\"]))  # wait for qubit to relax\n",
    "\n",
    "    \n",
    "    def update(self):\n",
    "        self.mathi(self.q_rp, self.r_wait, self.r_wait, '+', soc.us2cycles(self.cfg[\"step\"])) # update frequency list index"
   ]
  },
  {
   "cell_type": "code",
   "execution_count": 22,
   "metadata": {
    "ExecuteTime": {
     "end_time": "2021-09-30T07:38:38.583856Z",
     "start_time": "2021-09-30T07:36:04.826941Z"
    }
   },
   "outputs": [
    {
     "data": {
      "application/vnd.jupyter.widget-view+json": {
       "model_id": "c4d46216c33547e0b2fbe1e79fa0780c",
       "version_major": 2,
       "version_minor": 0
      },
      "text/plain": [
       "HBox(children=(IntProgress(value=0, max=400000), HTML(value='')))"
      ]
     },
     "metadata": {},
     "output_type": "display_data"
    },
    {
     "name": "stdout",
     "output_type": "stream",
     "text": [
      "\n"
     ]
    },
    {
     "data": {
      "application/vnd.jupyter.widget-view+json": {
       "model_id": "427f27d06a204b39aea4f2e8ca070f81",
       "version_major": 2,
       "version_minor": 0
      },
      "text/plain": [
       "Canvas(toolbar=Toolbar(toolitems=[('Home', 'Reset original view', 'home', 'home'), ('Back', 'Back to  previous…"
      ]
     },
     "metadata": {},
     "output_type": "display_data"
    },
    {
     "data": {
      "text/plain": [
       "[<matplotlib.lines.Line2D at 0x7f66a1d710>]"
      ]
     },
     "execution_count": 22,
     "metadata": {},
     "output_type": "execute_result"
    }
   ],
   "source": [
    "qubit_cfg={\n",
    "    \"sigma\": soc.us2cycles(0.07),\n",
    "    \"qubit_freq\":4879,\n",
    "    \"pi_gain\": -17041,\n",
    "    \"pi2_gain\":-8492\n",
    "}\n",
    "\n",
    "\n",
    "expt_cfg={ \n",
    "    \"start\":0, # [us]\n",
    "    \"step\":2,  # [us]\n",
    "    \"expts\":200, \n",
    "    \"reps\": 2000,     \n",
    "    \"relax_delay\":500,\n",
    "       }\n",
    "\n",
    "config={**hw_cfg,**readout_cfg,**qubit_cfg,**expt_cfg} #combine configs\n",
    "t1p=T1Program(cfg=config)\n",
    "x_pts, avgi, avgq = t1p.acquire(soc, load_pulses=True, progress=True, debug=False)\n",
    "\n",
    "plt.figure()\n",
    "plt.subplot(111, title=\"T1 Experiment\", xlabel=f\"Time ($\\mu s$)\", ylabel=\"Qubit Population\")\n",
    "plt.plot(x_pts,avgi[0][0],'o-')\n",
    "plt.plot(x_pts,avgq[0][0],'o-')"
   ]
  },
  {
   "cell_type": "code",
   "execution_count": 23,
   "metadata": {},
   "outputs": [
    {
     "name": "stdout",
     "output_type": "stream",
     "text": [
      "tau is 88.86 us\n"
     ]
    },
    {
     "data": {
      "application/vnd.jupyter.widget-view+json": {
       "model_id": "d8b3e4defe0f419099c84572965fde69",
       "version_major": 2,
       "version_minor": 0
      },
      "text/plain": [
       "Canvas(toolbar=Toolbar(toolitems=[('Home', 'Reset original view', 'home', 'home'), ('Back', 'Back to  previous…"
      ]
     },
     "metadata": {},
     "output_type": "display_data"
    }
   ],
   "source": [
    "t1Decay = qfr.T1Decay(x_pts, avgi[0][0]+1j*avgq[0][0])\n",
    "t1Result = t1Decay.run(piResult.rot_result)\n",
    "t1Result.plot()\n",
    "\n",
    "# # ----- save data to pc -------- \n",
    "# data_temp = {\"x_data\":x_pts, \"i_data\": avgi[0][0], \"q_data\": avgq[0][0]}\n",
    "# saveDataToRemote(data_temp, sampleName+\"_t1\", remotePath)"
   ]
  },
  {
   "cell_type": "markdown",
   "metadata": {},
   "source": [
    "# Ramsey Fringe Experiment\n",
    "\n",
    "Measures the qubit T2 Ramsey characteristic decay time by preparing the qubit in a superposition state with a  $\\frac{\\pi}{2}$ pulse followed by a variable delay ($\\tau$) before applying another $\\frac{\\pi}{2}$ pulse with a phase advanced by $\\Delta \\phi = \\omega * \\tau$, where $\\omega$ is the Ramsey frequency. This exponential decay envelope can be fitted in post-processing to obtain the qubit T2 Ramsey time."
   ]
  },
  {
   "cell_type": "code",
   "execution_count": null,
   "metadata": {
    "ExecuteTime": {
     "end_time": "2021-09-30T07:38:38.823154Z",
     "start_time": "2021-09-30T07:38:38.591844Z"
    }
   },
   "outputs": [],
   "source": [
    "class RamseyProgram(RAveragerProgram):\n",
    "    def __init__(self,cfg):\n",
    "        AveragerProgram.__init__(self,cfg)       \n",
    "        \n",
    "    def initialize(self):\n",
    "        cfg=self.cfg               \n",
    "        self.cfg[\"adc_lengths\"]=[self.cfg[\"readout_length\"]]*2   #copy over adc acquisition parameters\n",
    "        self.cfg[\"adc_freqs\"]=[soc.adcfreq(cfg[\"res_freq\"])]*2\n",
    "        \n",
    "        self.res_gain_I = int(cfg[\"res_gain\"])\n",
    "        self.res_gain_Q = int(cfg[\"res_gain\"] * cfg[\"IQScale\"])\n",
    "        self.res_phase_I = deg2reg(cfg[\"res_phase\"])\n",
    "        self.res_phase_Q = deg2reg(cfg[\"skewPhase\"]+cfg[\"res_phase\"])\n",
    "        self.res_length = cfg[\"res_length\"]\n",
    "        self.res_freq = soc.freq2reg(soc.adcfreq(cfg[\"res_freq\"]))  # convert frequency to dac frequency (ensuring it is an available adc frequency)\n",
    "             \n",
    "        self.qubit_freq=soc.freq2reg(cfg[\"qubit_freq\"])\n",
    "    \n",
    "        \n",
    "        self.q_rp=self.ch_page(self.cfg[\"qubit_ch\"])     # get register page for qubit_ch\n",
    "        self.r_wait = 3\n",
    "        self.regwi(self.q_rp, self.r_wait, soc.us2cycles(cfg[\"start\"]))\n",
    "        \n",
    "\n",
    "        # add qubit and readout pulses to respective channels\n",
    "        self.add_pulse(ch=self.cfg[\"qubit_ch\"], name=\"qubit\", style=\"arb\", \n",
    "                       idata=gauss(mu=cfg[\"sigma\"]*16*4/2,si=cfg[\"sigma\"]*16,length=4*cfg[\"sigma\"]*16,maxv=2**15-1) )\n",
    "        \n",
    "        self.add_pulse(ch=cfg[\"res_ch_I\"], name=\"measure\", style=\"const\", length=self.res_length)  #add a constant pulse to the pulse library\n",
    "        self.add_pulse(ch=cfg[\"res_ch_Q\"], name=\"measure\", style=\"const\", length=self.res_length)  #add a constant pulse to the pulse library\n",
    "\n",
    "        \n",
    "        # pre-initialize pulses\n",
    "        self.pulse(ch=cfg[\"qubit_ch\"], name=\"qubit\", phase=0, freq=self.qubit_freq, gain=cfg[\"pi2_gain\"], play=False)\n",
    "    \n",
    "        self.sync_all(soc.us2cycles(1))\n",
    "    \n",
    "    def body(self):\n",
    "        cfg = self.cfg\n",
    "        \n",
    "        self.pulse(ch=self.cfg[\"qubit_ch\"], play=True)  #play probe pulse\n",
    "        self.sync_all()\n",
    "        self.sync(self.q_rp,self.r_wait)\n",
    "        self.pulse(ch=self.cfg[\"qubit_ch\"], play=True)  #play probe pulse\n",
    "        self.sync_all(soc.us2cycles(0.05))\n",
    "        \n",
    "        self.trigger_adc(adc1=1, adc2=1, adc_trig_offset=cfg[\"adc_trig_offset\"])  # trigger the adc acquisition\n",
    "        self.pulse(ch=cfg[\"res_ch_I\"], name=\"measure\", freq=self.res_freq, phase=self.res_phase_I, gain=self.res_gain_I, play=True) \n",
    "        self.pulse(ch=cfg[\"res_ch_Q\"], name=\"measure\", freq=self.res_freq, phase=self.res_phase_Q, gain=self.res_gain_Q, play=True) \n",
    "        self.waiti(0, cfg[\"adc_trig_offset\"] + cfg[\"readout_length\"]) \n",
    "        self.sync_all(soc.us2cycles(self.cfg[\"relax_delay\"]))  # wait for qubit to relax\n",
    "        \n",
    "    \n",
    "    def update(self):\n",
    "        self.mathi(self.q_rp, self.r_wait, self.r_wait, '+',  soc.us2cycles(self.cfg[\"step\"])) # update the time between two π/2 pulses\n"
   ]
  },
  {
   "cell_type": "code",
   "execution_count": null,
   "metadata": {
    "ExecuteTime": {
     "end_time": "2021-09-30T07:44:01.658674Z",
     "start_time": "2021-09-30T07:38:38.831516Z"
    }
   },
   "outputs": [],
   "source": [
    "expt_cfg={\n",
    "    \"start\":0,  # [us]\n",
    "    \"step\":1, # [us]\n",
    "    \"expts\":100,\n",
    "    \"reps\": 1000, \n",
    "    \"rounds\": 1,\n",
    "    \"relax_delay\":400 # [us]\n",
    "       }\n",
    "\n",
    "qubit_cfg={\n",
    "    \"sigma\": soc.us2cycles(0.07),\n",
    "    \"qubit_freq\":4878.8926338,\n",
    "    \"pi_gain\": -17041,\n",
    "    \"pi2_gain\":-8492\n",
    "}\n",
    "\n",
    "config={**hw_cfg,**readout_cfg,**qubit_cfg,**expt_cfg} #combine configs\n",
    "t2p=RamseyProgram(cfg=config)\n",
    "x_pts, avgi, avgq= t2p.acquire(soc, load_pulses=True,progress=True, debug=False)\n",
    "\n",
    "plt.figure()\n",
    "plt.subplot(111, title=\"Ramsey Fringe Experiment\", xlabel=\"Delay time ($\\mu$s)\", ylabel=\"Qubit Population\")\n",
    "plt.plot(x_pts,avgi[0][0],'o-')\n",
    "plt.plot(x_pts,avgq[0][0],'o-')"
   ]
  },
  {
   "cell_type": "code",
   "execution_count": null,
   "metadata": {},
   "outputs": [],
   "source": [
    "t2Ramsey = qfr.T2Ramsey(x_pts, avgi[0][0]+1j*avgq[0][0])\n",
    "t2rResult = t2Ramsey.run(piResult.rot_result)\n",
    "t2rResult.plot()\n",
    "\n",
    "# # ----- save data to pc -------- \n",
    "# data_temp = {\"x_data\":x_pts, \"i_data\": avgi[0][0], \"q_data\": avgq[0][0]}\n",
    "# saveDataToRemote(data_temp, sampleName+\"_t2R\", remotePath)\n"
   ]
  },
  {
   "cell_type": "markdown",
   "metadata": {},
   "source": [
    "# T2 Echo Experiment"
   ]
  },
  {
   "cell_type": "code",
   "execution_count": null,
   "metadata": {},
   "outputs": [],
   "source": [
    "class T2EProgram(RAveragerProgram):\n",
    "    def __init__(self,cfg):\n",
    "        AveragerProgram.__init__(self,cfg)       \n",
    "        \n",
    "    def initialize(self):\n",
    "        cfg=self.cfg               \n",
    "        self.cfg[\"adc_lengths\"]=[self.cfg[\"readout_length\"]]*2   #copy over adc acquisition parameters\n",
    "        self.cfg[\"adc_freqs\"]=[soc.adcfreq(cfg[\"res_freq\"])]*2\n",
    "        \n",
    "        self.res_gain_I = int(cfg[\"res_gain\"])\n",
    "        self.res_gain_Q = int(cfg[\"res_gain\"] * cfg[\"IQScale\"])\n",
    "        self.res_phase_I = deg2reg(cfg[\"res_phase\"])\n",
    "        self.res_phase_Q = deg2reg(cfg[\"skewPhase\"]+cfg[\"res_phase\"])\n",
    "        self.res_length = cfg[\"res_length\"]\n",
    "        self.res_freq = soc.freq2reg(soc.adcfreq(cfg[\"res_freq\"]))  # convert frequency to dac frequency (ensuring it is an available adc frequency)\n",
    "             \n",
    "        self.qubit_freq=soc.freq2reg(cfg[\"qubit_freq\"])\n",
    "    \n",
    "        \n",
    "        self.q_rp=self.ch_page(self.cfg[\"qubit_ch\"])     # get register page for qubit_ch\n",
    "        self.r_wait = 3\n",
    "        self.regwi(self.q_rp, self.r_wait, soc.us2cycles(cfg[\"start\"]/2))\n",
    "        \n",
    "\n",
    "        # add qubit and readout pulses to respective channels\n",
    "        self.add_pulse(ch=self.cfg[\"qubit_ch\"], name=\"qubit\", style=\"arb\", \n",
    "                       idata=gauss(mu=cfg[\"sigma\"]*16*4/2,si=cfg[\"sigma\"]*16,length=4*cfg[\"sigma\"]*16,maxv=2**15-1) )\n",
    "\n",
    "        \n",
    "        self.add_pulse(ch=cfg[\"res_ch_I\"], name=\"measure\", style=\"const\", length=self.res_length)  #add a constant pulse to the pulse library\n",
    "        self.add_pulse(ch=cfg[\"res_ch_Q\"], name=\"measure\", style=\"const\", length=self.res_length)  #add a constant pulse to the pulse library\n",
    "\n",
    "        \n",
    "        # pre-initialize pulses\n",
    "        self.pulse(ch=cfg[\"qubit_ch\"], name=\"qubit\", phase=0, freq=self.qubit_freq, gain=cfg[\"pi2_gain\"], play=False)\n",
    "    \n",
    "        self.sync_all(soc.us2cycles(1))\n",
    "    \n",
    "    def body(self):\n",
    "        cfg = self.cfg\n",
    "        \n",
    "        self.pulse(ch=self.cfg[\"qubit_ch\"], play=True)  #play probe pulse\n",
    "        self.sync_all()\n",
    "        self.sync(self.q_rp,self.r_wait)\n",
    "        self.pulse(ch=self.cfg[\"qubit_ch\"], gain=cfg[\"pi_gain\"], play=True)  #play probe pulse\n",
    "        self.sync_all()\n",
    "        self.sync(self.q_rp,self.r_wait)\n",
    "        self.pulse(ch=self.cfg[\"qubit_ch\"], gain=cfg[\"pi2_gain\"], play=True)  #play probe pulse\n",
    "        \n",
    "        self.sync_all(soc.us2cycles(0.05))\n",
    "        \n",
    "        self.trigger_adc(adc1=1, adc2=1, adc_trig_offset=cfg[\"adc_trig_offset\"])  # trigger the adc acquisition\n",
    "        self.pulse(ch=cfg[\"res_ch_I\"], name=\"measure\", freq=self.res_freq, phase=self.res_phase_I, gain=self.res_gain_I, play=True) \n",
    "        self.pulse(ch=cfg[\"res_ch_Q\"], name=\"measure\", freq=self.res_freq, phase=self.res_phase_Q, gain=self.res_gain_Q, play=True) \n",
    "        self.waiti(0, cfg[\"adc_trig_offset\"] + cfg[\"readout_length\"]) \n",
    "        self.sync_all(soc.us2cycles(self.cfg[\"relax_delay\"]))  # wait for qubit to relax\n",
    "        \n",
    "    \n",
    "    def update(self):\n",
    "        self.mathi(self.q_rp, self.r_wait, self.r_wait, '+',  soc.us2cycles(self.cfg[\"step\"]/2)) # update the time between two π/2 pulses\n"
   ]
  },
  {
   "cell_type": "code",
   "execution_count": null,
   "metadata": {},
   "outputs": [],
   "source": [
    "expt_cfg={\n",
    "    \"start\":0,  # [us]\n",
    "    \"step\": 1,  # [us]\n",
    "    \"expts\":200,\n",
    "    \"reps\": 2000, \n",
    "    \"rounds\": 1,\n",
    "    \"relax_delay\":400 # [us]\n",
    "       }\n",
    "\n",
    "qubit_cfg={\n",
    "    \"sigma\": soc.us2cycles(0.07),\n",
    "    \"qubit_freq\":4878.8926338,\n",
    "    \"pi_gain\": -17041,\n",
    "    \"pi2_gain\":-8492\n",
    "}\n",
    "\n",
    "config={**hw_cfg,**readout_cfg,**qubit_cfg,**expt_cfg} #combine configs\n",
    "t2ep=T2EProgram(cfg=config)\n",
    "x_pts, avgi, avgq= t2ep.acquire(soc, load_pulses=True,progress=True, debug=False)\n",
    "\n",
    "plt.figure()\n",
    "plt.subplot(111, title=\"T2 echo Experiment\", xlabel=\"Delay time ($\\mu$s)\", ylabel=\"Qubit Population\")\n",
    "plt.plot(x_pts,avgi[0][0],'o-')\n",
    "plt.plot(x_pts,avgq[0][0],'o-')"
   ]
  },
  {
   "cell_type": "code",
   "execution_count": null,
   "metadata": {},
   "outputs": [],
   "source": [
    "t2EDecay = qfr.T1Decay(x_pts, avgi[0][0]+1j*avgq[0][0])\n",
    "t2EResult = t2EDecay.run(piResult.rot_result)\n",
    "t2EResult.plot()\n",
    "\n",
    "# # ----- save data to pc -------- \n",
    "# data_temp = {\"x_data\":x_pts, \"i_data\": avgi[0][0], \"q_data\": avgq[0][0]}\n",
    "# saveDataToRemote(data_temp, sampleName+\"_t2E\", remotePath)"
   ]
  },
  {
   "cell_type": "code",
   "execution_count": null,
   "metadata": {},
   "outputs": [],
   "source": []
  }
 ],
 "metadata": {
  "kernelspec": {
   "display_name": "Python 3",
   "language": "python",
   "name": "python3"
  },
  "language_info": {
   "codemirror_mode": {
    "name": "ipython",
    "version": 3
   },
   "file_extension": ".py",
   "mimetype": "text/x-python",
   "name": "python",
   "nbconvert_exporter": "python",
   "pygments_lexer": "ipython3",
   "version": "3.6.5"
  },
  "toc": {
   "base_numbering": 1,
   "nav_menu": {},
   "number_sections": true,
   "sideBar": true,
   "skip_h1_title": false,
   "title_cell": "Table of Contents",
   "title_sidebar": "Contents",
   "toc_cell": false,
   "toc_position": {
    "height": "775px",
    "left": "66px",
    "top": "111.441px",
    "width": "324.41px"
   },
   "toc_section_display": true,
   "toc_window_display": true
  }
 },
 "nbformat": 4,
 "nbformat_minor": 2
}

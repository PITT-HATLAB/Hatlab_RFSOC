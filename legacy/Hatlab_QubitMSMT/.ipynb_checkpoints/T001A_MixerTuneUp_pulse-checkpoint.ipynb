{
 "cells": [
  {
   "cell_type": "code",
   "execution_count": 1,
   "metadata": {
    "ExecuteTime": {
     "end_time": "2021-09-30T07:30:23.590904Z",
     "start_time": "2021-09-30T07:30:20.325164Z"
    }
   },
   "outputs": [
    {
     "name": "stdout",
     "output_type": "stream",
     "text": [
      "Populating the interactive namespace from numpy and matplotlib\n"
     ]
    },
    {
     "data": {
      "application/javascript": [
       "\n",
       "try {\n",
       "require(['notebook/js/codecell'], function(codecell) {\n",
       "  codecell.CodeCell.options_default.highlight_modes[\n",
       "      'magic_text/x-csrc'] = {'reg':[/^%%pybind11/]};\n",
       "  Jupyter.notebook.events.one('kernel_ready.Kernel', function(){\n",
       "      Jupyter.notebook.get_cells().map(function(cell){\n",
       "          if (cell.cell_type == 'code'){ cell.auto_highlight(); } }) ;\n",
       "  });\n",
       "});\n",
       "} catch (e) {};\n"
      ]
     },
     "metadata": {},
     "output_type": "display_data"
    }
   ],
   "source": [
    "%pylab inline\n",
    "from qick import *\n",
    "from qick.helpers import gauss\n",
    "from tqdm import tqdm_notebook as tqdm\n",
    "from helpers.dataTransfer import saveFullDataToRemote\n",
    "from qick.qick_asm import fs_dac"
   ]
  },
  {
   "cell_type": "markdown",
   "metadata": {},
   "source": [
    "# Data Saving Info"
   ]
  },
  {
   "cell_type": "code",
   "execution_count": 1,
   "metadata": {},
   "outputs": [],
   "source": [
    "remotePath = \"C:/Users/hatla/Downloads\"\n",
    "sampleName = \"Q1\""
   ]
  },
  {
   "cell_type": "markdown",
   "metadata": {},
   "source": [
    "# Configuring the channels\n",
    "\n",
    "The data in this notebook was taken with a wiring diagram similar to the above. The QICK has eight RF DACs which can be configured in multiple ways. Using the QICK, two RF DACs are needed to control the qubit and its readout resonator, respectively. Also, the qubit control pulses (< 6 GHz) were directly synthesized without the use of an analog mixer. Note that the QICK RF board was not used for these measurements, only the ZCU111 evaluation board plus the analog components specified in the diagram."
   ]
  },
  {
   "cell_type": "code",
   "execution_count": 2,
   "metadata": {
    "ExecuteTime": {
     "end_time": "2021-09-30T07:30:27.452111Z",
     "start_time": "2021-09-30T07:30:24.088270Z"
    }
   },
   "outputs": [],
   "source": [
    "# Load bitstream with custom overlay\n",
    "soc = QickSoc()\n",
    "soc.set_nyquist(ch=6,nqz=1) #Readout_I\n",
    "soc.set_nyquist(ch=7,nqz=1) #Readout_Q\n",
    "\n",
    "hw_cfg={\"res_ch_I\":6,\n",
    "        \"res_ch_Q\":7\n",
    "       }"
   ]
  },
  {
   "cell_type": "code",
   "execution_count": 6,
   "metadata": {},
   "outputs": [
    {
     "data": {
      "text/plain": [
       "[<matplotlib.lines.Line2D at 0x7f6f4949b0>]"
      ]
     },
     "execution_count": 6,
     "metadata": {},
     "output_type": "execute_result"
    },
    {
     "data": {
      "image/png": "[encoded data removed]",
      "text/plain": [
       "<matplotlib.figure.Figure at 0x7f6f60e278>"
      ]
     },
     "metadata": {},
     "output_type": "display_data"
    }
   ],
   "source": [
    "def constWithOffset(amp, length, freq, offset):\n",
    "    tList = np.arange(length)\n",
    "    a0_I = offset * np.cos(np.pi * 2 * freq * tList * soc.cycles2us(1)/16)\n",
    "    a0_Q = offset * np.sin(np.pi * 2 * freq * tList * soc.cycles2us(1)/16)\n",
    "    return  amp * np.ones_like(tList) + a0_I, a0_Q\n",
    "\n",
    "def cosWithOffset(amp, length, freq, offset, phase=0):\n",
    "    tList = np.arange(length)\n",
    "    a_I = amp * np.cos(np.pi * 2 * freq * tList * soc.cycles2us(1)/16 + phase/180*np.pi) + offset\n",
    "    a_Q = np.zeros_like(a_I)\n",
    "    return  a_I, a_Q\n",
    "\n",
    "\n",
    "plt.figure()\n",
    "t_list = np.arange(200) * soc.cycles2us(1)/16\n",
    "plt.plot(t_list, cosWithOffset(20000, 200, 50,10000)[0])"
   ]
  },
  {
   "cell_type": "code",
   "execution_count": 21,
   "metadata": {},
   "outputs": [
    {
     "data": {
      "application/vnd.jupyter.widget-view+json": {
       "model_id": "6a4d336eef6143e0883ee6f1f243294a",
       "version_major": 2,
       "version_minor": 0
      },
      "text/plain": [
       "HBox(children=(IntProgress(value=0, max=10), HTML(value='')))"
      ]
     },
     "metadata": {},
     "output_type": "display_data"
    },
    {
     "name": "stdout",
     "output_type": "stream",
     "text": [
      "\n"
     ]
    }
   ],
   "source": [
    "class CWProgram(AveragerProgram):\n",
    "    def initialize(self):\n",
    "        cfg=self.cfg   \n",
    "        cfg[\"adc_lengths\"]=[cfg[\"readout_length\"]]*2          #add length of adc acquisition to config\n",
    "        cfg[\"adc_freqs\"]=[soc.adcfreq(cfg[\"frequency\"])]*2   #add frequency of adc dds to config\n",
    "        self.gain_I = int(cfg[\"pulse_gain\"])\n",
    "        self.gain_Q = int(cfg[\"pulse_gain\"] * cfg[\"IQScale\"])\n",
    "        self.phase_I = deg2reg(0)\n",
    "        self.phase_Q = deg2reg(cfg[\"skewPhase\"])\n",
    "        self.pulse_length = cfg[\"pulse_length\"]\n",
    "        self.freq = cfg[\"frequency\"]\n",
    "        \n",
    "        self.add_pulse(ch=cfg[\"res_ch_I\"], name=\"measure\", style=\"const\", length=cfg[\"pulse_length\"])  #add a constant pulse to the pulse library\n",
    "        self.add_pulse(ch=cfg[\"res_ch_Q\"], name=\"measure\", style=\"const\", length=cfg[\"pulse_length\"])  #add a constant pulse to the pulse library\n",
    "# \n",
    "#         iData0, qData0 = constWithOffset(self.gain_I, self.pulse_length, self.freq, cfg[\"offSet_I\"])\n",
    "#         iData1, qData1 = constWithOffset(self.gain_Q, self.pulse_length, self.freq, cfg[\"offSet_Q\"])\n",
    "\n",
    "#         iData0, qData0 = cosWithOffset(self.gain_I, self.pulse_length, self.freq, cfg[\"offSet_I\"], 0)\n",
    "#         iData1, qData1 = cosWithOffset(self.gain_Q, self.pulse_length, self.freq, cfg[\"offSet_Q\"], cfg[\"skewPhase\"])\n",
    "    \n",
    "#         self.add_pulse(ch=cfg[\"res_ch_I\"], name=\"measure\", style=\"arb\", idata= iData0, qdata= qData0 ) #add a constant pulse to the pulse library\n",
    "#         self.add_pulse(ch=cfg[\"res_ch_Q\"], name=\"measure\", style=\"arb\", idata= iData1, qdata= qData1 ) #add a constant pulse to the pulse library\n",
    "        \n",
    "        \n",
    "        self.freq=soc.freq2reg(soc.adcfreq(cfg[\"frequency\"]))  # convert frequency to dac frequency (ensuring it is an available adc frequency)\n",
    "        self.synci(200)  # give processor some time to configure pulses\n",
    "        \n",
    "\n",
    "        \n",
    "    \n",
    "    def body(self):\n",
    "        cfg=self.cfg   \n",
    "        self.trigger_adc(adc1=1, adc2=0,adc_trig_offset=cfg[\"adc_trig_offset\"])  # trigger the adc acquisition\n",
    "        self.pulse(ch=cfg[\"res_ch_I\"], name=\"measure\", freq=self.freq, phase=self.phase_I, gain=self.gain_I, mode=1, outsel=0, t=0, play=True)\n",
    "        self.pulse(ch=cfg[\"res_ch_Q\"], name=\"measure\", freq=self.freq, phase=self.phase_Q, gain=self.gain_Q, mode=1, outsel=0, t=0, play=True) \n",
    "        self.marker(t=100, t1=1, short=False)\n",
    "#         self.marker(t=200, t1=0, short=False)\n",
    "        self.sync_all(soc.us2cycles(self.cfg[\"relax_delay\"]))  # sync all channels\n",
    "\n",
    "expt_config={\n",
    "        \"reps\":10, # --Fixed\n",
    "        \"pulse_length\": int(fs_dac/50*25), # [Clock ticks]\n",
    "        \"readout_length\":1000, # [Clock ticks]\n",
    "        \"adc_trig_offset\": 0, # [Clock ticks]\n",
    "        \"soft_avgs\":1,\n",
    "        \"relax_delay\": 0,\n",
    "    \n",
    "        \"frequency\": 50, # [MHz]\n",
    "        \"pulse_gain\":10000, # [DAC units]\n",
    "        \"offSet_I\": 0, # [DAC units]\n",
    "        \"offSet_Q\": 0, # [DAC units]\n",
    "        \"skewPhase\":-83, # [Degrees]\n",
    "        \"IQScale\":0.95\n",
    "       }\n",
    "\n",
    "config={**hw_cfg,**expt_config}\n",
    "prog =CWProgram(config)\n",
    "adc1, adc2 = prog.acquire(soc, load_pulses=True, progress=True)\n",
    "\n"
   ]
  },
  {
   "cell_type": "code",
   "execution_count": null,
   "metadata": {},
   "outputs": [],
   "source": [
    "\n"
   ]
  },
  {
   "cell_type": "code",
   "execution_count": null,
   "metadata": {},
   "outputs": [],
   "source": []
  }
 ],
 "metadata": {
  "kernelspec": {
   "display_name": "Python 3",
   "language": "python",
   "name": "python3"
  },
  "language_info": {
   "codemirror_mode": {
    "name": "ipython",
    "version": 3
   },
   "file_extension": ".py",
   "mimetype": "text/x-python",
   "name": "python",
   "nbconvert_exporter": "python",
   "pygments_lexer": "ipython3",
   "version": "3.6.5"
  },
  "toc": {
   "base_numbering": 1,
   "nav_menu": {},
   "number_sections": true,
   "sideBar": true,
   "skip_h1_title": false,
   "title_cell": "Table of Contents",
   "title_sidebar": "Contents",
   "toc_cell": false,
   "toc_position": {
    "height": "775px",
    "left": "66px",
    "top": "111.441px",
    "width": "324.41px"
   },
   "toc_section_display": true,
   "toc_window_display": true
  }
 },
 "nbformat": 4,
 "nbformat_minor": 2
}

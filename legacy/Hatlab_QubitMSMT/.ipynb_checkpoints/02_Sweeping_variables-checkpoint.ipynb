{
 "cells": [
  {
   "cell_type": "markdown",
   "metadata": {},
   "source": [
    "# <center> Sweeping variables demonstration\n",
    "\n",
    "### <center> In this demo you will sweep the amplitude of a pulse in loopback to demonstrate control over the QICK. \n",
    "\n",
    "We will sweep in two ways:\n",
    "* Within the QICK assembly language (advantage: faster, disadvantage: does not maintain phase coherent readout)\n",
    "* With a Python outer loop (advantage: maintains phase coherent readout, disadvantage: slower)"
   ]
  },
  {
   "cell_type": "code",
   "execution_count": 1,
   "metadata": {},
   "outputs": [
    {
     "data": {
      "application/javascript": [
       "\n",
       "try {\n",
       "require(['notebook/js/codecell'], function(codecell) {\n",
       "  codecell.CodeCell.options_default.highlight_modes[\n",
       "      'magic_text/x-csrc'] = {'reg':[/^%%pybind11/]};\n",
       "  Jupyter.notebook.events.one('kernel_ready.Kernel', function(){\n",
       "      Jupyter.notebook.get_cells().map(function(cell){\n",
       "          if (cell.cell_type == 'code'){ cell.auto_highlight(); } }) ;\n",
       "  });\n",
       "});\n",
       "} catch (e) {};\n"
      ]
     },
     "metadata": {},
     "output_type": "display_data"
    },
    {
     "name": "stdout",
     "output_type": "stream",
     "text": [
      "Populating the interactive namespace from numpy and matplotlib\n"
     ]
    }
   ],
   "source": [
    "# Import the QICK drivers and auxiliary libraries\n",
    "from qick import *\n",
    "from qick.helpers import gauss\n",
    "import time\n",
    "%pylab inline"
   ]
  },
  {
   "cell_type": "code",
   "execution_count": 2,
   "metadata": {},
   "outputs": [],
   "source": [
    "# Load bitstream with custom overlay\n",
    "soc = QickSoc()\n",
    "# Set the loopback DAC channel to be in 1st Nyquist zone mode\n",
    "soc.set_nyquist(ch=7,nqz=1); "
   ]
  },
  {
   "cell_type": "markdown",
   "metadata": {},
   "source": [
    "### Hardware Configuration\n",
    "\n",
    "tProc channel 7   : DAC 229 CH3  <-> Readout channel 0 : ADC 224 CH0"
   ]
  },
  {
   "cell_type": "code",
   "execution_count": 3,
   "metadata": {},
   "outputs": [],
   "source": [
    "class LoopbackProgram(AveragerProgram):\n",
    "    def __init__(self,cfg):\n",
    "        AveragerProgram.__init__(self,cfg)\n",
    "\n",
    "    def initialize(self):\n",
    "        cfg=self.cfg   \n",
    "        r_freq=self.sreg(cfg[\"res_ch\"], \"freq\")   #Get frequency register for res_ch\n",
    "        self.cfg[\"adc_lengths\"]=[self.cfg[\"readout_length\"]]*2          #add length of adc acquisition to config\n",
    "        self.cfg[\"adc_freqs\"]=[adcfreq(self.cfg[\"pulse_freq\"])]*2   #add frequency of adc ddc to config\n",
    "        \n",
    "        if self.cfg[\"pulse_style\"] == \"const\":\n",
    "            self.add_pulse(ch=self.cfg[\"res_ch\"], name=\"measure\", style=self.cfg[\"pulse_style\"], length=self.cfg[\"length\"])  #add a constant pulse to the pulse library\n",
    "        if self.cfg[\"pulse_style\"] == \"arb\":\n",
    "            self.add_pulse(ch=self.cfg[\"res_ch\"], name=\"measure\", style=self.cfg[\"pulse_style\"], idata = self.cfg[\"idata\"]) \n",
    "        \n",
    "        freq=freq2reg(adcfreq(cfg[\"pulse_freq\"]))  # convert frequency to dac frequency (ensuring it is an available adc frequency)\n",
    "        self.pulse(ch=cfg[\"res_ch\"], name=\"measure\", freq=freq, phase=0, gain=cfg[\"pulse_gain\"], t= 0, play=False) # pre-configure readout pulse\n",
    "        self.synci(200)  # give processor some time to configure pulses\n",
    "    \n",
    "    def body(self):\n",
    "        self.trigger_adc(adc1=1, adc2=1,adc_trig_offset=self.cfg[\"adc_trig_offset\"])  # trigger the adc acquisition\n",
    "        if self.cfg[\"pulse_style\"] == \"const\":\n",
    "            self.pulse(ch=self.cfg[\"res_ch\"], length=self.cfg[\"length\"], play=True) # play readout pulse\n",
    "        if self.cfg[\"pulse_style\"] == \"arb\":\n",
    "            self.pulse(ch=self.cfg[\"res_ch\"], play=True) # play readout pulse\n",
    "        self.sync_all(us2cycles(self.cfg[\"relax_delay\"]))  # sync all channels"
   ]
  },
  {
   "cell_type": "code",
   "execution_count": 4,
   "metadata": {},
   "outputs": [],
   "source": [
    "class SweepProgram(RAveragerProgram):\n",
    "    def __init__(self,cfg):\n",
    "        AveragerProgram.__init__(self,cfg)\n",
    "\n",
    "    def initialize(self):\n",
    "        cfg=self.cfg   \n",
    "        self.r_rp=self.ch_page(self.cfg[\"res_ch\"])     # get register page for res_ch\n",
    "        self.r_gain=self.sreg(cfg[\"res_ch\"], \"gain\")   #Get gain register for res_ch\n",
    "        \n",
    "        r_freq=self.sreg(cfg[\"res_ch\"], \"freq\")   #Get frequency register for res_ch\n",
    "        self.cfg[\"adc_lengths\"]=[self.cfg[\"readout_length\"]]*2          #add length of adc acquisition to config\n",
    "        self.cfg[\"adc_freqs\"]=[adcfreq(self.cfg[\"pulse_freq\"])]*2   #add frequency of adc ddc to config\n",
    "        \n",
    "        self.add_pulse(ch=self.cfg[\"res_ch\"], name=\"measure\", style=self.cfg[\"pulse_style\"], length=self.cfg[\"length\"])  #add a constant pulse to the pulse library\n",
    "        freq=freq2reg(adcfreq(cfg[\"pulse_freq\"]))  # convert frequency to dac frequency (ensuring it is an available adc frequency)\n",
    "        self.pulse(ch=cfg[\"res_ch\"], name=\"measure\", freq=freq, phase=0, gain=cfg[\"start\"], t= 0, play=False) # pre-configure readout pulse\n",
    "#         self.synci(200)  # give processor some time to configure pulses\n",
    "        self.sync_all(us2cycles(500))\n",
    "\n",
    "    def body(self):        \n",
    "        self.sync_all(us2cycles(0.05)) # align channels and wait 50ns\n",
    "        self.trigger_adc(adc1=1, adc2=1,adc_trig_offset=self.cfg[\"adc_trig_offset\"])  # trigger the adc acquisition\n",
    "        self.pulse(ch=self.cfg[\"res_ch\"], length=self.cfg[\"length\"], play=True) # play readout pulse\n",
    "        self.sync_all(us2cycles(self.cfg[\"relax_delay\"]))  # sync all channels\n",
    "        self.synci(1000)\n",
    "        \n",
    "    def update(self):\n",
    "        self.mathi(self.r_rp, self.r_gain, self.r_gain, '+', self.cfg[\"step\"]) # update gain of the pulse"
   ]
  },
  {
   "cell_type": "markdown",
   "metadata": {},
   "source": [
    "### Sweeping via the QICK assembly language\n"
   ]
  },
  {
   "cell_type": "code",
   "execution_count": 5,
   "metadata": {},
   "outputs": [
    {
     "data": {
      "application/vnd.jupyter.widget-view+json": {
       "model_id": "f68f5a0cdad8409ea4ba1d58efef6afb",
       "version_major": 2,
       "version_minor": 0
      },
      "text/plain": [
       "HBox(children=(IntProgress(value=0, max=1000), HTML(value='')))"
      ]
     },
     "metadata": {},
     "output_type": "display_data"
    },
    {
     "name": "stdout",
     "output_type": "stream",
     "text": [
      "\n"
     ]
    }
   ],
   "source": [
    "config={\"res_ch\":7, # --Fixed\n",
    "        \"relax_delay\":0, # --Fixed\n",
    "        \"res_phase\":0, # --Fixed\n",
    "        \"pulse_style\": \"const\", # --Fixed\n",
    "        \"length\":100, # [Clock ticks]        \n",
    "        \"readout_length\":200, # [Clock ticks]\n",
    "        \"pulse_gain\":0, # [DAC units]\n",
    "        \"pulse_freq\": 100, # [MHz]\n",
    "        \"adc_trig_offset\": 100, # [Clock ticks]\n",
    "        \"reps\":50, \n",
    "        # New variables\n",
    "        \"expts\": 20,\n",
    "        \"start\":0, # [DAC units]\n",
    "        \"step\":100 # [DAC units]\n",
    "       }\n",
    "\n",
    "prog =SweepProgram(config)\n",
    "expt_pts, avgi, avgq = prog.acquire(soc, load_pulses=True)"
   ]
  },
  {
   "cell_type": "code",
   "execution_count": 7,
   "metadata": {},
   "outputs": [
    {
     "data": {
      "text/plain": [
       "<matplotlib.legend.Legend at 0x7f895fdb38>"
      ]
     },
     "execution_count": 7,
     "metadata": {},
     "output_type": "execute_result"
    },
    {
     "data": {
      "image/png": "[encoded data removed]",
      "text/plain": [
       "<matplotlib.figure.Figure at 0x7f89639ac8>"
      ]
     },
     "metadata": {},
     "output_type": "display_data"
    }
   ],
   "source": [
    "# Plot results.\n",
    "sig = avgi[0][0] + 1j*avgq[0][0]\n",
    "avgamp0 = np.abs(sig)\n",
    "plt.figure(1)\n",
    "plt.plot(expt_pts, avgi[0][0], label=\"I value; ADC 0\")\n",
    "plt.plot(expt_pts, avgq[0][0], label=\"Q value; ADC 0\")\n",
    "plt.plot(expt_pts, avgamp0, label=\"Amplitude; ADC 0\")\n",
    "# plt.plot(expt_pts, avg_di1, label=\"I value; ADC 1\")\n",
    "# plt.plot(expt_pts, avg_dq1, label=\"Q value; ADC 1\")\n",
    "# plt.plot(expt_pts, avg_amp1, label=\"Amplitude; ADC 1\")\n",
    "plt.ylabel(\"a.u.\")\n",
    "plt.xlabel(\"Pulse gain (DAC units)\")\n",
    "plt.title(\"Averages = \" + str(config[\"reps\"]))\n",
    "plt.legend()\n",
    "# plt.savefig(\"images/Gain_sweep.pdf\", dpi=350)"
   ]
  },
  {
   "cell_type": "code",
   "execution_count": 11,
   "metadata": {},
   "outputs": [
    {
     "data": {
      "text/plain": [
       "array([ 41.,  23., -43.,  -1., -37., -15.,  15.,  33.,   0.,  -4., -11.,\n",
       "        -8.,  13.,  -7., -56.,  16., -29., -24., -33., -16.,  19.,  21.,\n",
       "       -54., -25., -43.,  -8., -40.,   3.,  20., -31.,  15.,  -9., -27.,\n",
       "       -50., -18.,  70., -12., -26.,  65.,   5.,  19.,   4.,   3.,  18.,\n",
       "       -61.,  18.,  27., -37.,  22.,  -6.,  44.,  32.,   6.,  19.,  22.,\n",
       "        39.,  17.,   6.,  19., -34., -31.,  14.,   9.,  16.,  -4.,   8.,\n",
       "        31., -84.,  33.,  -2.,  23.,   2.,   9.,  16.,  10.,  10., -45.,\n",
       "        39.,  13.,  18.,  38., -21.,   0.,   9., -22.,   0., -15.,   8.,\n",
       "       -16.,  15., -22.,  25.,  31., -45.,  -5., -59., -48.,  53.,  70.,\n",
       "         7., -18., -11., -48.,  11., -10., -32.,  -9.,  -5.,  34., -13.,\n",
       "         3., -30., -11.,  26., -27.,  23.,  31.,  23.,  -3.,  51.,  21.,\n",
       "        23.,   4., -25.,  -9., -51., -50.,   6., -29.,  -7.,   9., -24.,\n",
       "        67., -22.,  36.,  -6.,   7.,   0.,   2.,  16.,  -2.,  34., -15.,\n",
       "       -19.,  32.,  30.,   8.,   4., -20.,  -5., -19.,  -8., -10.,  19.,\n",
       "       -45.,  12., -33.,  18.,   7.,   7.,   9.,  11., -29., -17.,  36.,\n",
       "         9.,  -2., -11., -40.,  -3., -16.,  26.,   8.,  -3.,  -7., -19.,\n",
       "        65.,  31.,  -9., -12., -40., -13.,  34.,  25., -16.,  15., -19.,\n",
       "       -34., -43.,  83.,  14.,  -7.,   8.,  65.,  48.,   2., -42., -49.,\n",
       "        -2.,  12.,  -2.,  40.,  -5., -54.,  41., -31.,   6.,   2., -24.,\n",
       "       -51., -40.,   5.,  10.,  34., -29., -16.,  20.,  28.,  16., -23.,\n",
       "         4.,  23.,  64.,  26.,  11.,  39.,  -5.,  -3.,  -4.,  11., -11.,\n",
       "         1., -14.,  21., -47.,  14.,  42., -46., -67.,  -5.,  66.,   5.,\n",
       "       -15.,   3.,  26., -10.,   3., -42.,  32.,  20., -47., -39.,  39.,\n",
       "        33.,  30., -14.,  12.,  61.,  31.,   3.,  30.,  27.,  10.,  55.,\n",
       "       -13.,  -7.,  23., -15., -14., -60., -19., -13.,  22.,   7.,   6.,\n",
       "        -6., -17.,  31., -23.,  10.,  -3.,  92., -34.,  18.,  -8.,  -9.,\n",
       "       -12.,  -7.,   8.,  25.,  28.,  45.,  28., -11., -13., -10.,  11.,\n",
       "        24.,  -9.,   1.,  -4., -25., -15.,   7.,  40.,  57., -19.,  44.,\n",
       "         0.,  -1.,  14.,   6.,  11.,   5., -10., -23.,  30., -17.,  -2.,\n",
       "       -41.,  -5.,   4., -68.,  13.,   9., -13., -28., -26., -13.,  30.,\n",
       "       -32., -16., -10.,  49., -34.,   0.,  34., -32.,   8.,   8.,  22.,\n",
       "         7., -21.,  23., -11., -21., -23.,  22.,  18.,  19., -14., -61.,\n",
       "        24.,  23., -79., -27., -50., -34.,  53.,   0., -28.,   1., -22.,\n",
       "        12., -25.,   2.,   3., -57., -39.,  10.,  59.,  11.,  54.,   7.,\n",
       "        28.,   1.,  -9., -33.,  -5., -31.,  -2.,  -9., -11., -12.,  14.,\n",
       "         1., -21.,  26.,  14.,   8.,  38.,  -2., -37.,  28.,  45., -27.,\n",
       "        13.,  -3.,   6.,  -5.,  -8., -29., -20.,  60.,  44., -27., -15.,\n",
       "       -26.,  35.,  29.,  13.,  11.,   9.,  -8.,   3.,   3.,  29., -64.,\n",
       "       -24., -23.,  -3.,  16.,  19.,   9.,  32.,  -9.,  29., -35.,  -4.,\n",
       "        36., -55.,  28.,   4.,  41.,   6.,  -6.,  17.,  -5.,  16.,  17.,\n",
       "       -45., -11., -34., -19., -14.,  20.,  -3.,  29.,  20.,  -5.,  21.,\n",
       "         6.,   3.,  -3., -27., -40.,  -6.,  -7.,   4.,  24.,   0.,  20.,\n",
       "       -70., -54., -15., -46.,  10., -20., -42.,  35.,  -3.,  17.,  37.,\n",
       "       -24., -19., -48., -50.,  19., -26., -19.,   4., -35., -14., -36.,\n",
       "         9.,  16., -25.,   2.,  21.,  27., -40., -43.,  26.,  16.,  48.,\n",
       "        19.,  17.,  60.,   3.,  28., -13.,  19.,  26.,  14., -24.,  43.,\n",
       "       -12., -15.,  20., -43., -14.,  -6., -28.,  21.,  -1., -38.,  -4.,\n",
       "       -20.,  26.,  12.,  60., -25.,  16.,  -8., -14.,  70.,  -8.,   0.,\n",
       "         2.,  16., -19.,   5., -46., -23., -14., -24.,   4.,  22., -12.,\n",
       "       -42.,  18., -38.,  47.,   1.,   0., -70.,   9., -15.,  -2., -20.,\n",
       "        40.,   6., -21., -15.,  39.,  -7.,  18.,   0.,  22.,  36.,  24.,\n",
       "       -30.,  19., -21., -18.,  17., -31., -36., -59.,  37., -32.,   3.,\n",
       "        26.,  31.,  11.,  14.,  11., -29.,  -2.,  -4.,  -8., -49.,  -6.,\n",
       "       -16., -23., -41., -25., -46., -12.,  41., -59.,  29.,   1., -43.,\n",
       "       -21.,   7., -15., -17.,  -2.,   7.,   7.,   6.,  -4., -21.,  -3.,\n",
       "        20., -20.,  -5.,  27., -14., -59., -20.,   5., -20., -41.,  21.,\n",
       "       -29., -67.,  29.,  -3.,   4.,  35.,   1.,  -1., -35.,   6.,  24.,\n",
       "       -45.,  39., -17.,  -6.,  -9.,  13.,  34.,  14.,  33., -37.,  -9.,\n",
       "       -29., -16.,   2., -34., -59.,  -4.,  58., -29., -19.,   6., -23.,\n",
       "        32., -25.,   0.,  32.,  16.,   3.,  31.,  29.,  13.,  19.,  38.,\n",
       "        28.,   3.,   5.,  42.,  53.,  14.,  -7.,  25.,  29.,  35.,  40.,\n",
       "         6.,  29., -48., -25.,  -1.,  -2., -32.,  26.,  47., -19., -17.,\n",
       "       -13.,  25.,  -3.,  22.,  -8., -52.,  34.,   7., -15., -20.,   8.,\n",
       "         8.,  24.,  21., -37., -47., -26.,  30., -16., -19.,  39.,  28.,\n",
       "       -37.,  25., -16.,   5., -44., -13.,   3., -25., -18.,  29.,  -2.,\n",
       "       -10.,  -5., -33., -19.,  -1.,   4.,  14.,  27., -13.,  -8., -26.,\n",
       "        -5., -14., -21.,  -1.,   7., -35.,   2.,  48.,  -4.,  -4.,  14.,\n",
       "        -7.,   2., -34.,   7.,  -4., -19.,  29.,   0., -26.,  -1., -20.,\n",
       "         2.,  56.,  -6.,  18., -46.,  13., -25.,  50., -24., -18., -61.,\n",
       "       -30., -18.,  25.,  -2.,  10., -33.,  32.,  20., -25.,  13., -76.,\n",
       "        13.,   1.,   1.,  13., -27.,   5.,  -9.,  51.,  38.,  -5.,  -7.,\n",
       "       -25.,   6.,  -2.,   8., -54., -34.,   8., -28., -14.,  47., -17.,\n",
       "         9.,  22., -18., -30.,  35.,  52., -23., -27.,   8.,  26., -11.,\n",
       "         9.,  25.,  48., -19., -24.,  35.,   7.,  19., -58.,  -4.,  -5.,\n",
       "        -9., -17.,  41.,  10.,  -7., -30.,  30., -28., -18.,  -3.,  30.,\n",
       "       -12., -13.,   9.,  24.,  -4., -23., -33.,  15.,   8., -33., -31.,\n",
       "         3., -43., -19.,  47.,  -9.,  20.,  -3.,   8., -30., -30., -35.,\n",
       "        68.,   1.,  42.,   8.,  63.,   9.,  -6.,  34.,  47.,  -5., -28.,\n",
       "       -37.,  16.,   6., -37.,  54.,  -5., -16.,  20.,   0.,  14.,  31.,\n",
       "       -13.,  19.,  52.,   7., -14.,  29., -16., -16., -10.,  40., -16.,\n",
       "       -27., -26.,  16.,  80.,  20.,  24., -32.,  35.,  -8.,   6.,  31.,\n",
       "         3.,  29.,   3., -15.,  -8.,  13., -45.,  43.,  -9.,  18., -53.,\n",
       "       -24., -16., -27., -35.,  16., -18.,  -2., -80., -17.,  14.,  39.,\n",
       "        33., -18.,  26.,   8., -39., -18.,   0.,  -8.,  19., -36., -37.,\n",
       "        -9.,  24.,  16., -43.,  25.,  11., -14.,  16., -13.,   6., -16.,\n",
       "        18.,  13., -20., -20.,  17., -36.,  75., -30.,  -8.,  -5.,  -3.,\n",
       "         7., -11., -21.,  76.,  42.,  -2.,   7.,  44.,   3.,   8., -57.,\n",
       "        -3.,  -5.,  -2.,  25.,  40., -12.,  21., -19.,  -2.,  43.,  39.,\n",
       "       -16.,  -2.,  -3., -11.,  -1.,  25., -26.,  10.,  -6., -35.,  18.,\n",
       "       -44., -25.,  -6.,   2.,  28.,  52.,  53.,  12., -16.,   6.,  -2.,\n",
       "        17.,  16.,  44.,  -3.,   3.,  16., -34.,  36.,  81.,  70.])"
      ]
     },
     "execution_count": 11,
     "metadata": {},
     "output_type": "execute_result"
    }
   ],
   "source": [
    "prog.di_buf[1]"
   ]
  },
  {
   "cell_type": "markdown",
   "metadata": {},
   "source": [
    "### Sweeping via a Python outer loop"
   ]
  },
  {
   "cell_type": "code",
   "execution_count": 7,
   "metadata": {},
   "outputs": [],
   "source": [
    "config={\"res_ch\":7, # --Fixed\n",
    "        \"relax_delay\":0, # --Fixed\n",
    "        \"res_phase\":0, # --Fixed\n",
    "        \"pulse_style\": \"const\", # --Fixed\n",
    "        \"length\":100, # [Clock ticks]        \n",
    "        \"readout_length\":200, # [Clock ticks]\n",
    "        \"pulse_gain\":0, # [DAC units]\n",
    "        \"pulse_freq\": 100, # [MHz]\n",
    "        \"adc_trig_offset\": 100, # [Clock ticks]\n",
    "        \"reps\":50, \n",
    "       }\n",
    "\n",
    "prog =LoopbackProgram(config)\n",
    "sweep_cfg={\"start\":0, \"step\":100, \"expts\":20}\n",
    "gpts=sweep_cfg[\"start\"] + sweep_cfg[\"step\"]*np.arange(sweep_cfg[\"expts\"])\n",
    "\n",
    "prog =LoopbackProgram(config)\n",
    "avgi, avgq = prog.acquire(soc, load_pulses=True)\n",
    "\n",
    "results=[]\n",
    "for g in gpts:\n",
    "    config[\"pulse_gain\"]=int(g)\n",
    "    prog =LoopbackProgram(config)\n",
    "    results.append(prog.acquire(soc, load_pulses=True))\n",
    "results=np.transpose(results)"
   ]
  },
  {
   "cell_type": "code",
   "execution_count": 9,
   "metadata": {},
   "outputs": [
    {
     "data": {
      "image/png": "[encoded data removed]",
      "text/plain": [
       "<matplotlib.figure.Figure at 0x7f7553af98>"
      ]
     },
     "metadata": {},
     "output_type": "display_data"
    }
   ],
   "source": [
    "sig = results[0][0][0] + 1j*results[0][0][1]\n",
    "avgamp0 = np.abs(sig)\n",
    "plt.figure(2)\n",
    "plt.plot(gpts, results[0][0][0],label=\"I value; ADC 0\")\n",
    "plt.plot(gpts, results[0][0][1],label=\"Q value; ADC 0\")\n",
    "plt.plot(gpts, avgamp0,label=\"Amplitude; ADC 0\")\n",
    "plt.ylabel(\"a.u.\")\n",
    "plt.xlabel(\"Pulse gain (DAC units)\")\n",
    "plt.title(\"Averages = \" + str(config[\"reps\"]))\n",
    "plt.legend()\n",
    "plt.savefig(\"images/Gain_sweep_python.pdf\", dpi=350)"
   ]
  },
  {
   "cell_type": "code",
   "execution_count": null,
   "metadata": {},
   "outputs": [],
   "source": []
  },
  {
   "cell_type": "code",
   "execution_count": null,
   "metadata": {},
   "outputs": [],
   "source": []
  }
 ],
 "metadata": {
  "kernelspec": {
   "display_name": "Python 3",
   "language": "python",
   "name": "python3"
  },
  "language_info": {
   "codemirror_mode": {
    "name": "ipython",
    "version": 3
   },
   "file_extension": ".py",
   "mimetype": "text/x-python",
   "name": "python",
   "nbconvert_exporter": "python",
   "pygments_lexer": "ipython3",
   "version": "3.6.5"
  }
 },
 "nbformat": 4,
 "nbformat_minor": 2
}
